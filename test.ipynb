{
 "cells": [
  {
   "cell_type": "code",
   "execution_count": 1,
   "metadata": {},
   "outputs": [],
   "source": [
    "import season_stat_cleaner as cleaner"
   ]
  },
  {
   "cell_type": "code",
   "execution_count": 2,
   "metadata": {},
   "outputs": [
    {
     "ename": "AssertionError",
     "evalue": "",
     "output_type": "error",
     "traceback": [
      "\u001b[1;31m---------------------------------------------------------------------------\u001b[0m",
      "\u001b[1;31mAssertionError\u001b[0m                            Traceback (most recent call last)",
      "\u001b[1;32mc:\\Users\\user\\CU_2023_Spring\\Macine Learning\\ML Application Project\\MLApplication\\test.ipynb Cell 2\u001b[0m in \u001b[0;36m<cell line: 1>\u001b[1;34m()\u001b[0m\n\u001b[1;32m----> <a href='vscode-notebook-cell:/c%3A/Users/user/CU_2023_Spring/Macine%20Learning/ML%20Application%20Project/MLApplication/test.ipynb#W1sZmlsZQ%3D%3D?line=0'>1</a>\u001b[0m df \u001b[39m=\u001b[39m cleaner\u001b[39m.\u001b[39;49mmake_season_stats_data()\n",
      "File \u001b[1;32mc:\\Users\\user\\CU_2023_Spring\\Macine Learning\\ML Application Project\\MLApplication\\season_stat_cleaner.py:232\u001b[0m, in \u001b[0;36mmake_season_stats_data\u001b[1;34m(make_csv)\u001b[0m\n\u001b[0;32m    230\u001b[0m df[\u001b[39m'\u001b[39m\u001b[39mTEAM\u001b[39m\u001b[39m'\u001b[39m] \u001b[39m=\u001b[39m df[\u001b[39m'\u001b[39m\u001b[39mTEAM\u001b[39m\u001b[39m'\u001b[39m]\u001b[39m.\u001b[39mapply(fix_team_name)\n\u001b[0;32m    231\u001b[0m df \u001b[39m=\u001b[39m  df[df[\u001b[39m'\u001b[39m\u001b[39mTEAM\u001b[39m\u001b[39m'\u001b[39m]\u001b[39m.\u001b[39mapply(\u001b[39mlambda\u001b[39;00m x: x \u001b[39min\u001b[39;00m tournament_teams_13_19)]\n\u001b[1;32m--> 232\u001b[0m \u001b[39massert\u001b[39;00m \u001b[39msorted\u001b[39m(\u001b[39mlist\u001b[39m(df[\u001b[39m'\u001b[39m\u001b[39mTEAM\u001b[39m\u001b[39m'\u001b[39m]\u001b[39m.\u001b[39munique())) \u001b[39m==\u001b[39m \u001b[39msorted\u001b[39m(tournament_teams_13_19)\n\u001b[0;32m    233\u001b[0m \u001b[39mif\u001b[39;00m(make_csv):\n\u001b[0;32m    234\u001b[0m      make_season_stat_csv(df)\n",
      "\u001b[1;31mAssertionError\u001b[0m: "
     ]
    }
   ],
   "source": [
    "df = cleaner.make_season_stats_data()"
   ]
  },
  {
   "cell_type": "code",
   "execution_count": null,
   "metadata": {},
   "outputs": [],
   "source": []
  }
 ],
 "metadata": {
  "kernelspec": {
   "display_name": "base",
   "language": "python",
   "name": "python3"
  },
  "language_info": {
   "codemirror_mode": {
    "name": "ipython",
    "version": 3
   },
   "file_extension": ".py",
   "mimetype": "text/x-python",
   "name": "python",
   "nbconvert_exporter": "python",
   "pygments_lexer": "ipython3",
   "version": "3.9.12"
  },
  "orig_nbformat": 4
 },
 "nbformat": 4,
 "nbformat_minor": 2
}
