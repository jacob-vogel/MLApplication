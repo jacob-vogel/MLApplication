{
 "cells": [
  {
   "cell_type": "code",
   "execution_count": 1,
   "metadata": {},
   "outputs": [],
   "source": [
    "import pandas as pd\n",
    "import numpy as np \n",
    "import scipy as sci\n",
    "import os"
   ]
  },
  {
   "cell_type": "code",
   "execution_count": 2,
   "metadata": {},
   "outputs": [
    {
     "ename": "NameError",
     "evalue": "name 'current_dir' is not defined",
     "output_type": "error",
     "traceback": [
      "\u001b[1;31m---------------------------------------------------------------------------\u001b[0m",
      "\u001b[1;31mNameError\u001b[0m                                 Traceback (most recent call last)",
      "\u001b[1;32mc:\\Users\\user\\CU_2023_Spring\\Macine Learning\\ML Application Project\\MLApplication\\season_stat_initial_read.ipynb Cell 2\u001b[0m in \u001b[0;36m<cell line: 1>\u001b[1;34m()\u001b[0m\n\u001b[1;32m----> <a href='vscode-notebook-cell:/c%3A/Users/user/CU_2023_Spring/Macine%20Learning/ML%20Application%20Project/MLApplication/season_stat_initial_read.ipynb#W2sZmlsZQ%3D%3D?line=0'>1</a>\u001b[0m season_stat_dir \u001b[39m=\u001b[39m current_dir \u001b[39m+\u001b[39m \u001b[39m\"\u001b[39m\u001b[39m\\\\\u001b[39;00m\u001b[39mMarch Madness Data\u001b[39m\u001b[39m\\\\\u001b[39;00m\u001b[39mSeason_Stat_Data_13_21\u001b[39m\u001b[39m\\\\\u001b[39;00m\u001b[39mcbb.csv\u001b[39m\u001b[39m\"\u001b[39m\n\u001b[0;32m      <a href='vscode-notebook-cell:/c%3A/Users/user/CU_2023_Spring/Macine%20Learning/ML%20Application%20Project/MLApplication/season_stat_initial_read.ipynb#W2sZmlsZQ%3D%3D?line=1'>2</a>\u001b[0m season_stat_dir\n",
      "\u001b[1;31mNameError\u001b[0m: name 'current_dir' is not defined"
     ]
    }
   ],
   "source": [
    "season_stat_dir = current_dir + \"\\\\March Madness Data\\\\Season_Stat_Data_13_21\\\\cbb.csv\"\n",
    "season_stat_dir"
   ]
  },
  {
   "cell_type": "code",
   "execution_count": 3,
   "metadata": {},
   "outputs": [],
   "source": [
    "# season_stats_dfs = []\n",
    "# for file in os.listdir(season_stat_dir):\n",
    "#     season_stat_csv_path = season_stat_dir+\"\\\\\"+file\n",
    "#     df = pd.read_csv(season_stat_csv_path)\n",
    "#     season_stats_dfs.append(df)"
   ]
  },
  {
   "cell_type": "code",
   "execution_count": 4,
   "metadata": {},
   "outputs": [],
   "source": [
    "tournament_teams_13_19 = {\n",
    " 'Abilene Christian',\n",
    " 'Akron',\n",
    " 'Alabama',\n",
    " 'Alabama-Birmingham',\n",
    " 'Albany (NY)',\n",
    " 'American',\n",
    " 'Arizona',\n",
    " 'Arizona State',\n",
    " 'Arkansas',\n",
    " 'Auburn',\n",
    " 'Austin Peay',\n",
    " 'BYU',\n",
    " 'Baylor',\n",
    " 'Belmont',\n",
    " 'Bradley',\n",
    " 'Bucknell',\n",
    " 'Buffalo',\n",
    " 'Butler',\n",
    " 'Cal Poly',\n",
    " 'Cal State Bakersfield',\n",
    " 'Cal State Fullerton',\n",
    " 'California',\n",
    " 'Chattanooga',\n",
    " 'Cincinnati',\n",
    " 'Clemson',\n",
    " 'Coastal Carolina',\n",
    " 'Colgate',\n",
    " 'College of Charleston',\n",
    " 'Colorado',\n",
    " 'Colorado State',\n",
    " 'Creighton',\n",
    " 'Davidson',\n",
    " 'Dayton',\n",
    " 'Delaware',\n",
    " 'Duke',\n",
    " 'ETSU',\n",
    " 'Eastern Kentucky',\n",
    " 'Eastern Washington',\n",
    " 'Fairleigh Dickinson',\n",
    " 'Florida',\n",
    " 'Florida Gulf Coast',\n",
    " 'Florida State',\n",
    " 'Fresno State',\n",
    " 'Gardner-Webb',\n",
    " 'George Washington',\n",
    " 'Georgetown',\n",
    " 'Georgia',\n",
    " 'Georgia State',\n",
    " 'Gonzaga',\n",
    " 'Green Bay',\n",
    " 'Hampton',\n",
    " 'Harvard',\n",
    " 'Hawaii',\n",
    " 'Holy Cross',\n",
    " 'Houston',\n",
    " 'Illinois',\n",
    " 'Indiana',\n",
    " 'Iona',\n",
    " 'Iowa',\n",
    " 'Iowa State',\n",
    " 'Jacksonville State',\n",
    " 'James Madison',\n",
    " 'Kansas',\n",
    " 'Kansas State',\n",
    " 'Kent State',\n",
    " 'Kentucky',\n",
    " 'LSU',\n",
    " 'La Salle',\n",
    " 'Lafayette',\n",
    " 'Liberty',\n",
    " 'Lipscomb',\n",
    " 'Little Rock',\n",
    " 'Louisiana',\n",
    " 'Louisville',\n",
    " 'Loyola (IL)',\n",
    " 'Manhattan',\n",
    " 'Marquette',\n",
    " 'Marshall',\n",
    " 'Maryland',\n",
    " 'Memphis',\n",
    " 'Mercer',\n",
    " 'Miami (FL)',\n",
    " 'Michigan',\n",
    " 'Michigan State',\n",
    " 'Middle Tennessee',\n",
    " 'Milwaukee',\n",
    " 'Minnesota',\n",
    " 'Mississippi State',\n",
    " 'Missouri',\n",
    " 'Montana',\n",
    " \"Mount St. Mary's\",\n",
    " 'Murray State',\n",
    " 'NC State',\n",
    " 'Nebraska',\n",
    " 'Nevada',\n",
    " 'New Mexico',\n",
    " 'New Mexico State',\n",
    " 'North Carolina A&T',\n",
    " 'North Carolina Central',\n",
    " 'North Dakota',\n",
    " 'North Dakota State',\n",
    " 'Northeastern',\n",
    " 'Northern Iowa',\n",
    " 'Northern Kentucky',\n",
    " 'Northwestern',\n",
    " 'Northwestern State',\n",
    " 'Notre Dame',\n",
    " 'Ohio State',\n",
    " 'Oklahoma',\n",
    " 'Oklahoma State',\n",
    " 'Old Dominion',\n",
    " 'Ole Miss',\n",
    " 'Oregon',\n",
    " 'Oregon State',\n",
    " 'Pacific',\n",
    " 'Penn',\n",
    " 'Pitt',\n",
    " 'Princeton',\n",
    " 'Providence',\n",
    " 'Purdue',\n",
    " 'Radford',\n",
    " 'Rhode Island',\n",
    " 'Robert Morris',\n",
    " 'SMU',\n",
    " 'Saint Louis',\n",
    " \"Saint Mary's\",\n",
    " 'San Diego State',\n",
    " 'Seton Hall',\n",
    " 'South Carolina',\n",
    " 'South Dakota State',\n",
    " 'Southern',\n",
    " 'St. Bonaventure',\n",
    " \"St. John's (NY)\",\n",
    " \"St. Joseph's\",\n",
    " 'Stanford',\n",
    " 'Stephen F. Austin',\n",
    " 'Stony Brook',\n",
    " 'Syracuse',\n",
    " 'TCU',\n",
    " 'Temple',\n",
    " 'Tennessee',\n",
    " 'Texas',\n",
    " 'Texas A&M',\n",
    " 'Texas Southern',\n",
    " 'Texas Tech',\n",
    " 'Troy',\n",
    " 'Tulsa',\n",
    " 'UC-Davis',\n",
    " 'UC-Irvine',\n",
    " 'UCF',\n",
    " 'UCLA',\n",
    " 'UConn',\n",
    " 'UMBC',\n",
    " 'UMass',\n",
    " 'UNC',\n",
    " 'UNC Asheville',\n",
    " 'UNC Greensboro',\n",
    " 'UNC Wilmington',\n",
    " 'UNLV',\n",
    " 'USC',\n",
    " 'Utah',\n",
    " 'Utah State',\n",
    " 'VCU',\n",
    " 'Valparaiso',\n",
    " 'Vanderbilt',\n",
    " 'Vermont',\n",
    " 'Villanova',\n",
    " 'Virginia',\n",
    " 'Virginia Tech',\n",
    " 'Washington',\n",
    " 'Weber State',\n",
    " 'West Virginia',\n",
    " 'Western Kentucky',\n",
    " 'Western Michigan',\n",
    " 'Wichita State',\n",
    " 'Winthrop',\n",
    " 'Wisconsin',\n",
    " 'Wofford',\n",
    " 'Wright State',\n",
    " 'Wyoming',\n",
    " 'Xavier',\n",
    " 'Yale'\n",
    " }"
   ]
  },
  {
   "cell_type": "code",
   "execution_count": 5,
   "metadata": {},
   "outputs": [
    {
     "data": {
      "text/plain": [
       "182"
      ]
     },
     "execution_count": 5,
     "metadata": {},
     "output_type": "execute_result"
    }
   ],
   "source": [
    "tournament_teams_13_19 = {ele.lower() for ele in tournament_teams_13_19}\n",
    "len(tournament_teams_13_19)"
   ]
  },
  {
   "cell_type": "code",
   "execution_count": 6,
   "metadata": {},
   "outputs": [],
   "source": [
    "orig_df = pd.read_csv(os.getcwd() + \"\\\\March Madness Data\\\\Season_Stat_Data_13_21\\\\cbb.csv\")"
   ]
  },
  {
   "cell_type": "code",
   "execution_count": 7,
   "metadata": {},
   "outputs": [],
   "source": [
    "def fix_team_name(team): # for an apply method\n",
    "    team = team.lower()\n",
    "    orig_to_jacob = {\n",
    "        'gardner webb':'gardner-webb',\n",
    "        'uab': 'alabama-birmingham',\n",
    "        \"east tennessee st.\" : \"etsu\",\n",
    "        \"mount st. mary's\": \"mount st. mary's\", \n",
    "        'uc davis': 'uc-davis',\n",
    "        'mississippi': 'ole miss',\n",
    "        \"st. john's\": \"st. john's (ny)\",\n",
    "        'miami fl': 'miami (fl)',\n",
    "        'north carolina': 'unc',\n",
    "        'connecticut': 'uconn',\n",
    "        'uc irvine': 'uc-irvine',\n",
    "        \"saint joseph's\": \"st. joseph's\",\n",
    "        'louisiana lafayette': 'louisiana',\n",
    "        'loyola chicago': 'loyola (il)',\n",
    "        \"st. bonaventure\": \"st. bonaventure\",\n",
    "        'massachusetts': 'umass',\n",
    "        \"north carolina st.\": 'nc state',\n",
    "        'pittsburgh': 'pitt',\n",
    "        'albany': 'albany (ny)'\n",
    "    }\n",
    "    change = False\n",
    "    if team in orig_to_jacob.keys():\n",
    "            team = orig_to_jacob[team]\n",
    "            change = True\n",
    "    if 'st.' in team and not change:\n",
    "        team = team.replace('st.', 'state')\n",
    "    return team"
   ]
  },
  {
   "cell_type": "code",
   "execution_count": 8,
   "metadata": {},
   "outputs": [],
   "source": [
    "def make_season_stats_data():\n",
    "    seasons_stats_csv = os.getcwd() + \"\\\\March Madness Data\\\\Season_Stat_Data_13_21\\\\cbb.csv\"\n",
    "    df = pd.read_csv(seasons_stats_csv)\n",
    "    df = df.drop(['SEED','POSTSEASON'], axis = 1)\n",
    "    years = list(df.YEAR.unique())\n",
    "    assert min(years) == 2013\n",
    "    assert max(years) == 2019\n",
    "    #num_years = 2019-2013\n",
    "    df['TEAM'] = df['TEAM'].apply(fix_team_name)\n",
    "    df =  df[df['TEAM'].apply(lambda x: x in tournament_teams_13_19)]\n",
    "    assert sorted(list(df['TEAM'].unique())) == sorted(tournament_teams_13_19)\n",
    "    \n",
    "    return df"
   ]
  },
  {
   "cell_type": "code",
   "execution_count": 9,
   "metadata": {},
   "outputs": [],
   "source": [
    "agg_df = make_season_stats_data()"
   ]
  },
  {
   "cell_type": "code",
   "execution_count": 10,
   "metadata": {},
   "outputs": [
    {
     "data": {
      "text/plain": [
       "[]"
      ]
     },
     "execution_count": 10,
     "metadata": {},
     "output_type": "execute_result"
    }
   ],
   "source": [
    "list1 = list(agg_df['TEAM'].unique())\n",
    "list2 = list(tournament_teams_13_19)\n",
    "uncommon = list(set(list1) - set(list2)) + list(set(list2) - set(list1))\n",
    "uncommon"
   ]
  },
  {
   "cell_type": "code",
   "execution_count": null,
   "metadata": {},
   "outputs": [],
   "source": []
  },
  {
   "cell_type": "code",
   "execution_count": 11,
   "metadata": {},
   "outputs": [
    {
     "data": {
      "text/plain": [
       "182"
      ]
     },
     "execution_count": 11,
     "metadata": {},
     "output_type": "execute_result"
    }
   ],
   "source": [
    "len(list2)"
   ]
  },
  {
   "cell_type": "code",
   "execution_count": null,
   "metadata": {},
   "outputs": [
    {
     "data": {
      "text/plain": [
       "182"
      ]
     },
     "execution_count": 115,
     "metadata": {},
     "output_type": "execute_result"
    }
   ],
   "source": [
    "len(tournament_teams_13_19)"
   ]
  },
  {
   "cell_type": "markdown",
   "metadata": {},
   "source": []
  },
  {
   "cell_type": "code",
   "execution_count": null,
   "metadata": {},
   "outputs": [
    {
     "data": {
      "text/plain": [
       "TEAM\n",
       "Abilene Christian    6\n",
       "Air Force            7\n",
       "Akron                7\n",
       "Alabama              7\n",
       "Alabama A&M          7\n",
       "                    ..\n",
       "Wright St.           7\n",
       "Wyoming              7\n",
       "Xavier               7\n",
       "Yale                 7\n",
       "Youngstown St.       7\n",
       "Name: YEAR, Length: 355, dtype: int64"
      ]
     },
     "execution_count": 68,
     "metadata": {},
     "output_type": "execute_result"
    }
   ],
   "source": [
    "team_year = agg_df.groupby('TEAM')['YEAR'].count()\n",
    "team_year"
   ]
  },
  {
   "cell_type": "code",
   "execution_count": null,
   "metadata": {},
   "outputs": [
    {
     "data": {
      "text/plain": [
       "array([6, 7, 4, 1, 3], dtype=int64)"
      ]
     },
     "execution_count": 69,
     "metadata": {},
     "output_type": "execute_result"
    }
   ],
   "source": [
    "team_year.unique()"
   ]
  },
  {
   "cell_type": "code",
   "execution_count": null,
   "metadata": {},
   "outputs": [],
   "source": []
  }
 ],
 "metadata": {
  "kernelspec": {
   "display_name": "base",
   "language": "python",
   "name": "python3"
  },
  "language_info": {
   "codemirror_mode": {
    "name": "ipython",
    "version": 3
   },
   "file_extension": ".py",
   "mimetype": "text/x-python",
   "name": "python",
   "nbconvert_exporter": "python",
   "pygments_lexer": "ipython3",
   "version": "3.9.12"
  },
  "orig_nbformat": 4
 },
 "nbformat": 4,
 "nbformat_minor": 2
}
