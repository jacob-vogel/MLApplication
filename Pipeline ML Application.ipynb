{
 "cells": [
  {
   "cell_type": "code",
   "execution_count": 1,
   "id": "09f931fa",
   "metadata": {},
   "outputs": [],
   "source": [
    "import pandas as pd\n",
    "import numpy as np\n",
    "import tournamentGameByGameCleaning as tGGC\n",
    "import joinFunc as jf"
   ]
  },
  {
   "cell_type": "code",
   "execution_count": 3,
   "id": "030e1f3c",
   "metadata": {},
   "outputs": [],
   "source": [
    "tournamentGameByGame = tGGC.getTournamentGameByGame()\n",
    "#tournamentGameByGame.describe()"
   ]
  },
  {
   "cell_type": "code",
   "execution_count": 5,
   "id": "fca52291",
   "metadata": {},
   "outputs": [],
   "source": [
    "prevTournamentStats = pd.read_csv('March Madness Data/Historical Data/mdf.csv')\n",
    "prevTournamentStats = prevTournamentStats.drop(['TEAM.1', 'ROUND', 'SEED'], axis=1)\n",
    "# prevTournamentStats\n",
    "prevTournamentCols = list(prevTournamentStats.columns)\n",
    "prevTournamentCols.remove('TEAM')\n",
    "prevTournamentCols.remove('YEAR')\n",
    "tournamentGameByGame = jf.joinCols(prevTournamentCols, tournamentGameByGame, prevTournamentStats, 'TEAM', 'YEAR')"
   ]
  },
  {
   "cell_type": "code",
   "execution_count": 7,
   "id": "4b568072",
   "metadata": {},
   "outputs": [],
   "source": [
    "seasonStats = pd.read_csv('March Madness Data/Season_Stat_Data_13_21/ncaam_season_stats_13-19.csv')\n",
    "seasonStats = seasonStats.drop(['Unnamed: 0'], axis=1)\n",
    "seasonStatsCols = list(seasonStats.columns)\n",
    "seasonStatsCols.remove('Team')\n",
    "seasonStatsCols.remove('Year')\n",
    "tournamentGameByGame = jf.joinCols(seasonStatsCols, tournamentGameByGame, seasonStats, 'Team', 'Year')"
   ]
  },
  {
   "cell_type": "code",
   "execution_count": null,
   "id": "a0a78d31",
   "metadata": {},
   "outputs": [],
   "source": [
    "from sklearn.preprocessing import LabelEncoder\n",
    "\n",
    "# Create a LabelEncoder object and fit it to the column data\n",
    "le = LabelEncoder()\n",
    "le.fit(tournamentGameByGame[['Team1', 'Team2']].values.ravel())\n",
    "tournamentGameByGame['Team1_num'] = le.transform(tournamentGameByGame['Team1'])\n",
    "tournamentGameByGame['Team2_num'] = le.transform(tournamentGameByGame['Team2'])\n",
    "\n",
    "# Create a LabelEncoder object and fit it to the column data\n",
    "le = LabelEncoder()\n",
    "le.fit(tournamentGameByGame[['CONF Team1', 'CONF Team2']].values.ravel())\n",
    "tournamentGameByGame['CONF_Team1_num'] = le.transform(tournamentGameByGame['CONF Team1'])\n",
    "tournamentGameByGame['CONF_Team2_num'] = le.transform(tournamentGameByGame['CONF Team2'])"
   ]
  }
 ],
 "metadata": {
  "kernelspec": {
   "display_name": "Python 3 (ipykernel)",
   "language": "python",
   "name": "python3"
  },
  "language_info": {
   "codemirror_mode": {
    "name": "ipython",
    "version": 3
   },
   "file_extension": ".py",
   "mimetype": "text/x-python",
   "name": "python",
   "nbconvert_exporter": "python",
   "pygments_lexer": "ipython3",
   "version": "3.9.12"
  }
 },
 "nbformat": 4,
 "nbformat_minor": 5
}
